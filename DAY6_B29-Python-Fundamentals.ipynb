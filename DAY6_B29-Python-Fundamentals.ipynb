{
 "cells": [
  {
   "cell_type": "code",
   "execution_count": null,
   "metadata": {},
   "outputs": [],
   "source": [
    "continuation with list:"
   ]
  },
  {
   "cell_type": "code",
   "execution_count": null,
   "metadata": {},
   "outputs": [],
   "source": [
    "slicing of lists:"
   ]
  },
  {
   "cell_type": "code",
   "execution_count": 4,
   "metadata": {},
   "outputs": [],
   "source": [
    "students = ['mayur','ravi','yogesh','srinivas','naveed','kiran','anusha','sukanya']"
   ]
  },
  {
   "cell_type": "code",
   "execution_count": 5,
   "metadata": {},
   "outputs": [
    {
     "name": "stdout",
     "output_type": "stream",
     "text": [
      "['mayur', 'ravi', 'yogesh', 'srinivas', 'naveed', 'kiran', 'anusha', 'sukanya']\n"
     ]
    }
   ],
   "source": [
    "print(students)"
   ]
  },
  {
   "cell_type": "code",
   "execution_count": null,
   "metadata": {},
   "outputs": [],
   "source": [
    "# general syntax -----> var[startvalue:stopvalue:stepcount]\n",
    "\n",
    "Note: Last value is always exclusive."
   ]
  },
  {
   "cell_type": "code",
   "execution_count": 6,
   "metadata": {},
   "outputs": [
    {
     "name": "stdout",
     "output_type": "stream",
     "text": [
      "['mayur', 'ravi']\n"
     ]
    }
   ],
   "source": [
    "print(students[0:2])  # last value is always exclusive"
   ]
  },
  {
   "cell_type": "code",
   "execution_count": null,
   "metadata": {},
   "outputs": [],
   "source": [
    "#req: I want to get every alternate student in the above list in a group....!"
   ]
  },
  {
   "cell_type": "code",
   "execution_count": 7,
   "metadata": {},
   "outputs": [
    {
     "name": "stdout",
     "output_type": "stream",
     "text": [
      "['mayur', 'yogesh', 'naveed', 'anusha']\n"
     ]
    }
   ],
   "source": [
    "print (students[0:7:2])"
   ]
  },
  {
   "cell_type": "code",
   "execution_count": null,
   "metadata": {},
   "outputs": [],
   "source": []
  },
  {
   "cell_type": "code",
   "execution_count": null,
   "metadata": {},
   "outputs": [],
   "source": [
    "#Introduction to for loops:****"
   ]
  },
  {
   "cell_type": "code",
   "execution_count": null,
   "metadata": {},
   "outputs": [],
   "source": []
  },
  {
   "cell_type": "code",
   "execution_count": 9,
   "metadata": {},
   "outputs": [],
   "source": [
    "newstudents = ['anjali','mansoora','ajeeth','naveed','kiran','ram','harshitha','zubair']"
   ]
  },
  {
   "cell_type": "code",
   "execution_count": null,
   "metadata": {},
   "outputs": [],
   "source": []
  },
  {
   "cell_type": "code",
   "execution_count": null,
   "metadata": {},
   "outputs": [],
   "source": [
    "req: I want to appreciate all the above students for submitting the daily assignments on time.\n",
    "    \n",
    "    Anjali ----->"
   ]
  },
  {
   "cell_type": "code",
   "execution_count": null,
   "metadata": {},
   "outputs": [],
   "source": []
  },
  {
   "cell_type": "code",
   "execution_count": 10,
   "metadata": {},
   "outputs": [
    {
     "name": "stdout",
     "output_type": "stream",
     "text": [
      "keep up the good work, anjali\n"
     ]
    }
   ],
   "source": [
    "print (f\"keep up the good work, {newstudents[0]}\")"
   ]
  },
  {
   "cell_type": "code",
   "execution_count": 11,
   "metadata": {},
   "outputs": [
    {
     "name": "stdout",
     "output_type": "stream",
     "text": [
      "keep up the good work, Anjali\n"
     ]
    }
   ],
   "source": [
    "print (f\"keep up the good work, {newstudents[0].title()}\")"
   ]
  },
  {
   "cell_type": "code",
   "execution_count": 12,
   "metadata": {},
   "outputs": [
    {
     "name": "stdout",
     "output_type": "stream",
     "text": [
      "keep up the good work, Mansoora\n"
     ]
    }
   ],
   "source": [
    "print (f\"keep up the good work, {newstudents[1].title()}\")"
   ]
  },
  {
   "cell_type": "code",
   "execution_count": null,
   "metadata": {},
   "outputs": [],
   "source": []
  },
  {
   "cell_type": "code",
   "execution_count": 14,
   "metadata": {},
   "outputs": [
    {
     "name": "stdout",
     "output_type": "stream",
     "text": [
      "keep up the good work, anjali\n",
      "keep up the good work, mansoora\n",
      "keep up the good work, ajeeth\n",
      "keep up the good work, naveed\n",
      "keep up the good work, kiran\n",
      "keep up the good work, ram\n",
      "keep up the good work, harshitha\n",
      "keep up the good work, zubair\n"
     ]
    }
   ],
   "source": [
    "for student in newstudents:\n",
    "    print(f\"keep up the good work, {student}\")"
   ]
  },
  {
   "cell_type": "code",
   "execution_count": null,
   "metadata": {},
   "outputs": [],
   "source": [
    "#Newstudent is called the main variable.\n",
    "#student is the temp variable."
   ]
  },
  {
   "cell_type": "code",
   "execution_count": null,
   "metadata": {},
   "outputs": [],
   "source": []
  },
  {
   "cell_type": "code",
   "execution_count": null,
   "metadata": {},
   "outputs": [],
   "source": [
    "#general syntax of a for loop.\n",
    "formula:\n",
    "    \n",
    "for tempvar in mainvar:\n",
    "    print(tempvar)\n",
    "#gap is called indentation."
   ]
  },
  {
   "cell_type": "code",
   "execution_count": null,
   "metadata": {},
   "outputs": [],
   "source": []
  },
  {
   "cell_type": "code",
   "execution_count": 15,
   "metadata": {},
   "outputs": [
    {
     "name": "stdout",
     "output_type": "stream",
     "text": [
      "keep up the good work, anjali\n",
      "keep up the good work, mansoora\n",
      "keep up the good work, ajeeth\n",
      "keep up the good work, naveed\n",
      "keep up the good work, kiran\n",
      "keep up the good work, ram\n",
      "keep up the good work, harshitha\n",
      "keep up the good work, zubair\n"
     ]
    }
   ],
   "source": [
    "for x in newstudents:\n",
    "    print(f\"keep up the good work, {x}\")"
   ]
  },
  {
   "cell_type": "code",
   "execution_count": null,
   "metadata": {},
   "outputs": [],
   "source": []
  },
  {
   "cell_type": "code",
   "execution_count": 16,
   "metadata": {},
   "outputs": [
    {
     "name": "stdout",
     "output_type": "stream",
     "text": [
      "keep up the good work, anjali\n",
      "keep up the good work, mansoora\n",
      "keep up the good work, ajeeth\n",
      "keep up the good work, naveed\n",
      "keep up the good work, kiran\n",
      "keep up the good work, ram\n",
      "keep up the good work, harshitha\n",
      "keep up the good work, zubair\n"
     ]
    }
   ],
   "source": [
    "for ironman in newstudents:\n",
    "    print(f\"keep up the good work, {ironman}\")"
   ]
  },
  {
   "cell_type": "code",
   "execution_count": null,
   "metadata": {},
   "outputs": [],
   "source": []
  },
  {
   "cell_type": "code",
   "execution_count": null,
   "metadata": {},
   "outputs": [],
   "source": [
    "#req: I want to ask to send me the practice file of today as well."
   ]
  },
  {
   "cell_type": "code",
   "execution_count": null,
   "metadata": {},
   "outputs": [],
   "source": []
  },
  {
   "cell_type": "code",
   "execution_count": 17,
   "metadata": {},
   "outputs": [
    {
     "name": "stdout",
     "output_type": "stream",
     "text": [
      "Keep up the good work, anjali\n",
      "I am looking forward to recieve your files today, anjali\n",
      "Keep up the good work, mansoora\n",
      "I am looking forward to recieve your files today, mansoora\n",
      "Keep up the good work, ajeeth\n",
      "I am looking forward to recieve your files today, ajeeth\n",
      "Keep up the good work, naveed\n",
      "I am looking forward to recieve your files today, naveed\n",
      "Keep up the good work, kiran\n",
      "I am looking forward to recieve your files today, kiran\n",
      "Keep up the good work, ram\n",
      "I am looking forward to recieve your files today, ram\n",
      "Keep up the good work, harshitha\n",
      "I am looking forward to recieve your files today, harshitha\n",
      "Keep up the good work, zubair\n",
      "I am looking forward to recieve your files today, zubair\n"
     ]
    }
   ],
   "source": [
    "for ironman in newstudents:\n",
    "    print (f\"Keep up the good work, {ironman}\")\n",
    "    print (f\"I am looking forward to recieve your files today, {ironman}\")"
   ]
  },
  {
   "cell_type": "code",
   "execution_count": null,
   "metadata": {},
   "outputs": [],
   "source": []
  },
  {
   "cell_type": "code",
   "execution_count": 18,
   "metadata": {},
   "outputs": [
    {
     "name": "stdout",
     "output_type": "stream",
     "text": [
      "Keep up the good work, anjali\n",
      "I am looking forward to recieve your files today, anjali.\n",
      "\n",
      "Keep up the good work, mansoora\n",
      "I am looking forward to recieve your files today, mansoora.\n",
      "\n",
      "Keep up the good work, ajeeth\n",
      "I am looking forward to recieve your files today, ajeeth.\n",
      "\n",
      "Keep up the good work, naveed\n",
      "I am looking forward to recieve your files today, naveed.\n",
      "\n",
      "Keep up the good work, kiran\n",
      "I am looking forward to recieve your files today, kiran.\n",
      "\n",
      "Keep up the good work, ram\n",
      "I am looking forward to recieve your files today, ram.\n",
      "\n",
      "Keep up the good work, harshitha\n",
      "I am looking forward to recieve your files today, harshitha.\n",
      "\n",
      "Keep up the good work, zubair\n",
      "I am looking forward to recieve your files today, zubair.\n",
      "\n"
     ]
    }
   ],
   "source": [
    "for ironman in newstudents:\n",
    "    print (f\"Keep up the good work, {ironman}\")\n",
    "    print (f\"I am looking forward to recieve your files today, {ironman}.\\n\")"
   ]
  },
  {
   "cell_type": "code",
   "execution_count": null,
   "metadata": {},
   "outputs": [],
   "source": []
  },
  {
   "cell_type": "code",
   "execution_count": null,
   "metadata": {},
   "outputs": [],
   "source": []
  }
 ],
 "metadata": {
  "kernelspec": {
   "display_name": "Python 3",
   "language": "python",
   "name": "python3"
  },
  "language_info": {
   "codemirror_mode": {
    "name": "ipython",
    "version": 3
   },
   "file_extension": ".py",
   "mimetype": "text/x-python",
   "name": "python",
   "nbconvert_exporter": "python",
   "pygments_lexer": "ipython3",
   "version": "3.8.3"
  }
 },
 "nbformat": 4,
 "nbformat_minor": 4
}
