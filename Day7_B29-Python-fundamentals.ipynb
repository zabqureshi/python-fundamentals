{
 "cells": [
  {
   "cell_type": "code",
   "execution_count": 3,
   "metadata": {},
   "outputs": [],
   "source": [
    "List datatypes:"
   ]
  },
  {
   "cell_type": "code",
   "execution_count": null,
   "metadata": {},
   "outputs": [],
   "source": []
  },
  {
   "cell_type": "code",
   "execution_count": 7,
   "metadata": {},
   "outputs": [],
   "source": [
    "students = ['deepan','ajeeth','kumar','mayur','sufiyan','madiha','sravya','ishika','zubair']"
   ]
  },
  {
   "cell_type": "code",
   "execution_count": null,
   "metadata": {},
   "outputs": [],
   "source": []
  },
  {
   "cell_type": "code",
   "execution_count": null,
   "metadata": {},
   "outputs": [],
   "source": [
    "#general syntax of a for loop.\n",
    "\n",
    "for tempvar in mainvar:\n",
    "    print(tempvar)\n",
    "    "
   ]
  },
  {
   "cell_type": "code",
   "execution_count": null,
   "metadata": {},
   "outputs": [],
   "source": [
    "#Req:  I want to appreciate all the students above for submitting their work on time."
   ]
  },
  {
   "cell_type": "code",
   "execution_count": null,
   "metadata": {},
   "outputs": [],
   "source": []
  },
  {
   "cell_type": "code",
   "execution_count": 9,
   "metadata": {},
   "outputs": [
    {
     "name": "stdout",
     "output_type": "stream",
     "text": [
      "Keep up the goodwork, deepan\n",
      "Keep up the goodwork, ajeeth\n",
      "Keep up the goodwork, kumar\n",
      "Keep up the goodwork, mayur\n",
      "Keep up the goodwork, sufiyan\n",
      "Keep up the goodwork, madiha\n",
      "Keep up the goodwork, sravya\n",
      "Keep up the goodwork, ishika\n",
      "Keep up the goodwork, zubair\n"
     ]
    }
   ],
   "source": [
    "for x in students:\n",
    "    print(f\"Keep up the goodwork, {x}\")"
   ]
  },
  {
   "cell_type": "code",
   "execution_count": null,
   "metadata": {},
   "outputs": [],
   "source": []
  },
  {
   "cell_type": "code",
   "execution_count": null,
   "metadata": {},
   "outputs": [],
   "source": [
    "#enhancement of the code........\n",
    "\n",
    "#req: also ask their practice file of today as well."
   ]
  },
  {
   "cell_type": "code",
   "execution_count": null,
   "metadata": {},
   "outputs": [],
   "source": []
  },
  {
   "cell_type": "code",
   "execution_count": 10,
   "metadata": {},
   "outputs": [
    {
     "name": "stdout",
     "output_type": "stream",
     "text": [
      "Keep up the goodwork, deepan\n",
      "send me your practice file for today, deepan\n",
      "Keep up the goodwork, ajeeth\n",
      "send me your practice file for today, ajeeth\n",
      "Keep up the goodwork, kumar\n",
      "send me your practice file for today, kumar\n",
      "Keep up the goodwork, mayur\n",
      "send me your practice file for today, mayur\n",
      "Keep up the goodwork, sufiyan\n",
      "send me your practice file for today, sufiyan\n",
      "Keep up the goodwork, madiha\n",
      "send me your practice file for today, madiha\n",
      "Keep up the goodwork, sravya\n",
      "send me your practice file for today, sravya\n",
      "Keep up the goodwork, ishika\n",
      "send me your practice file for today, ishika\n",
      "Keep up the goodwork, zubair\n",
      "send me your practice file for today, zubair\n"
     ]
    }
   ],
   "source": [
    "for x in students:\n",
    "    print(f\"Keep up the goodwork, {x}\")\n",
    "    print(f\"send me your practice file for today, {x}\")"
   ]
  },
  {
   "cell_type": "code",
   "execution_count": null,
   "metadata": {},
   "outputs": [],
   "source": []
  },
  {
   "cell_type": "code",
   "execution_count": 14,
   "metadata": {},
   "outputs": [
    {
     "name": "stdout",
     "output_type": "stream",
     "text": [
      "Keep up the goodwork, deepan\n",
      "send me your practice file for today, deepan.\n",
      "\n",
      "Keep up the goodwork, ajeeth\n",
      "send me your practice file for today, ajeeth.\n",
      "\n",
      "Keep up the goodwork, kumar\n",
      "send me your practice file for today, kumar.\n",
      "\n",
      "Keep up the goodwork, mayur\n",
      "send me your practice file for today, mayur.\n",
      "\n",
      "Keep up the goodwork, sufiyan\n",
      "send me your practice file for today, sufiyan.\n",
      "\n",
      "Keep up the goodwork, madiha\n",
      "send me your practice file for today, madiha.\n",
      "\n",
      "Keep up the goodwork, sravya\n",
      "send me your practice file for today, sravya.\n",
      "\n",
      "Keep up the goodwork, ishika\n",
      "send me your practice file for today, ishika.\n",
      "\n",
      "Keep up the goodwork, zubair\n",
      "send me your practice file for today, zubair.\n",
      "\n"
     ]
    }
   ],
   "source": [
    "for x in students:\n",
    "    print(f\"Keep up the goodwork, {x}\")\n",
    "    print(f\"send me your practice file for today, {x}.\\n\")"
   ]
  },
  {
   "cell_type": "code",
   "execution_count": null,
   "metadata": {},
   "outputs": [],
   "source": []
  },
  {
   "cell_type": "code",
   "execution_count": null,
   "metadata": {},
   "outputs": [],
   "source": [
    "#req: I want to thank all the students for showing up in the session."
   ]
  },
  {
   "cell_type": "code",
   "execution_count": null,
   "metadata": {},
   "outputs": [],
   "source": []
  },
  {
   "cell_type": "code",
   "execution_count": 15,
   "metadata": {},
   "outputs": [
    {
     "name": "stdout",
     "output_type": "stream",
     "text": [
      "Keep up the goodwork, deepan\n",
      "send me your practice file for today, deepan.\n",
      "\n",
      "Keep up the goodwork, ajeeth\n",
      "send me your practice file for today, ajeeth.\n",
      "\n",
      "Keep up the goodwork, kumar\n",
      "send me your practice file for today, kumar.\n",
      "\n",
      "Keep up the goodwork, mayur\n",
      "send me your practice file for today, mayur.\n",
      "\n",
      "Keep up the goodwork, sufiyan\n",
      "send me your practice file for today, sufiyan.\n",
      "\n",
      "Keep up the goodwork, madiha\n",
      "send me your practice file for today, madiha.\n",
      "\n",
      "Keep up the goodwork, sravya\n",
      "send me your practice file for today, sravya.\n",
      "\n",
      "Keep up the goodwork, ishika\n",
      "send me your practice file for today, ishika.\n",
      "\n",
      "Keep up the goodwork, zubair\n",
      "send me your practice file for today, zubair.\n",
      "\n",
      "thank you all for joining the session today!!\n"
     ]
    }
   ],
   "source": [
    "for x in students:\n",
    "    print(f\"Keep up the goodwork, {x}\")\n",
    "    print(f\"send me your practice file for today, {x}.\\n\")\n",
    "print(\"thank you all for joining the session today!!\")"
   ]
  },
  {
   "cell_type": "code",
   "execution_count": null,
   "metadata": {},
   "outputs": [],
   "source": []
  },
  {
   "cell_type": "code",
   "execution_count": null,
   "metadata": {},
   "outputs": [],
   "source": [
    "#Introduction to tuple datatype:"
   ]
  },
  {
   "cell_type": "code",
   "execution_count": null,
   "metadata": {},
   "outputs": [],
   "source": [
    "#definition: An immutable list is called as a tuple.\n",
    "    Classification:\n",
    "        Immutable----> Which we cannot edit/alter once it is defined.\n",
    "        How to define a tuple--------> () --------- Paranthesis."
   ]
  },
  {
   "cell_type": "code",
   "execution_count": null,
   "metadata": {},
   "outputs": [],
   "source": []
  },
  {
   "cell_type": "code",
   "execution_count": 19,
   "metadata": {},
   "outputs": [],
   "source": [
    "dimensions = (200,50)"
   ]
  },
  {
   "cell_type": "code",
   "execution_count": 20,
   "metadata": {},
   "outputs": [
    {
     "name": "stdout",
     "output_type": "stream",
     "text": [
      "(200, 50)\n"
     ]
    }
   ],
   "source": [
    "print(dimensions)"
   ]
  },
  {
   "cell_type": "code",
   "execution_count": null,
   "metadata": {},
   "outputs": [],
   "source": []
  },
  {
   "cell_type": "code",
   "execution_count": 22,
   "metadata": {},
   "outputs": [
    {
     "data": {
      "text/plain": [
       "tuple"
      ]
     },
     "execution_count": 22,
     "metadata": {},
     "output_type": "execute_result"
    }
   ],
   "source": [
    "type(dimensions)"
   ]
  },
  {
   "cell_type": "code",
   "execution_count": null,
   "metadata": {},
   "outputs": [],
   "source": []
  },
  {
   "cell_type": "code",
   "execution_count": null,
   "metadata": {},
   "outputs": [],
   "source": [
    "#req: I want to change this 200 to 250...!"
   ]
  },
  {
   "cell_type": "code",
   "execution_count": 24,
   "metadata": {},
   "outputs": [
    {
     "ename": "TypeError",
     "evalue": "'tuple' object does not support item assignment",
     "output_type": "error",
     "traceback": [
      "\u001b[1;31m---------------------------------------------------------------------------\u001b[0m",
      "\u001b[1;31mTypeError\u001b[0m                                 Traceback (most recent call last)",
      "\u001b[1;32m<ipython-input-24-00271e61a311>\u001b[0m in \u001b[0;36m<module>\u001b[1;34m\u001b[0m\n\u001b[1;32m----> 1\u001b[1;33m \u001b[0mdimensions\u001b[0m\u001b[1;33m[\u001b[0m\u001b[1;36m0\u001b[0m\u001b[1;33m]\u001b[0m \u001b[1;33m=\u001b[0m \u001b[1;36m250\u001b[0m\u001b[1;33m\u001b[0m\u001b[1;33m\u001b[0m\u001b[0m\n\u001b[0m",
      "\u001b[1;31mTypeError\u001b[0m: 'tuple' object does not support item assignment"
     ]
    }
   ],
   "source": [
    "dimensions[0] = 250"
   ]
  },
  {
   "cell_type": "code",
   "execution_count": null,
   "metadata": {},
   "outputs": [],
   "source": []
  },
  {
   "cell_type": "code",
   "execution_count": 29,
   "metadata": {},
   "outputs": [
    {
     "name": "stdout",
     "output_type": "stream",
     "text": [
      "(250, 50)\n"
     ]
    }
   ],
   "source": [
    "dimensions = (250,50)\n",
    "print(dimensions)"
   ]
  },
  {
   "cell_type": "code",
   "execution_count": null,
   "metadata": {},
   "outputs": [],
   "source": []
  },
  {
   "cell_type": "code",
   "execution_count": null,
   "metadata": {},
   "outputs": [],
   "source": []
  },
  {
   "cell_type": "code",
   "execution_count": null,
   "metadata": {},
   "outputs": [],
   "source": []
  },
  {
   "cell_type": "code",
   "execution_count": null,
   "metadata": {},
   "outputs": [],
   "source": []
  },
  {
   "cell_type": "code",
   "execution_count": null,
   "metadata": {},
   "outputs": [],
   "source": []
  },
  {
   "cell_type": "code",
   "execution_count": null,
   "metadata": {},
   "outputs": [],
   "source": []
  },
  {
   "cell_type": "code",
   "execution_count": null,
   "metadata": {},
   "outputs": [],
   "source": []
  },
  {
   "cell_type": "code",
   "execution_count": null,
   "metadata": {},
   "outputs": [],
   "source": []
  }
 ],
 "metadata": {
  "kernelspec": {
   "display_name": "Python 3",
   "language": "python",
   "name": "python3"
  },
  "language_info": {
   "codemirror_mode": {
    "name": "ipython",
    "version": 3
   },
   "file_extension": ".py",
   "mimetype": "text/x-python",
   "name": "python",
   "nbconvert_exporter": "python",
   "pygments_lexer": "ipython3",
   "version": "3.8.3"
  }
 },
 "nbformat": 4,
 "nbformat_minor": 4
}
